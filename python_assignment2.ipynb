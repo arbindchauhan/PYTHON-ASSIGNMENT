{
  "nbformat": 4,
  "nbformat_minor": 0,
  "metadata": {
    "colab": {
      "name": "python assignment2.ipynb",
      "provenance": [],
      "collapsed_sections": []
    },
    "kernelspec": {
      "name": "python3",
      "display_name": "Python 3"
    },
    "language_info": {
      "name": "python"
    }
  },
  "cells": [
    {
      "cell_type": "markdown",
      "source": [
        "1. Write a Python program find a list of integers with exactly two occurrences of nineteen and at least three occurrences of five."
      ],
      "metadata": {
        "id": "7gRDj9YLcOrG"
      }
    },
    {
      "cell_type": "markdown",
      "source": [
        ""
      ],
      "metadata": {
        "id": "DFyT1RIdBJKK"
      }
    },
    {
      "cell_type": "code",
      "source": [
        "a=[]\n",
        "n=int(input(\"enter length of list:\"))\n",
        "for i in range(n):\n",
        "  b=int(input())\n",
        "  a.append(b)\n",
        "print(a)\n",
        "if a.count(19)==2 and a.count(5)>= 3:\n",
        "  print(\"True\")\n",
        "else:\n",
        "  print(\"False\")\n",
        "\n"
      ],
      "metadata": {
        "colab": {
          "base_uri": "https://localhost:8080/"
        },
        "id": "MdA_FFrglXgf",
        "outputId": "797c0f10-5355-4169-c346-edae1e559216"
      },
      "execution_count": null,
      "outputs": [
        {
          "output_type": "stream",
          "name": "stdout",
          "text": [
            "enter length of list:5\n",
            "19\n",
            "19\n",
            "5\n",
            "5\n",
            "5\n",
            "[19, 19, 5, 5, 5]\n",
            "True\n"
          ]
        }
      ]
    },
    {
      "cell_type": "markdown",
      "source": [
        "2. Write a Python program that accept a list of integers and check the length and the fifth element. Return true if the length of the list is 8 and fifth element occurs thrice in the said list. \n"
      ],
      "metadata": {
        "id": "_t6sfB4bn7FT"
      }
    },
    {
      "cell_type": "code",
      "source": [
        "a=[]\n",
        "while True:\n",
        "  c=input(\"enter elements:\")\n",
        "  if c==\"\":\n",
        "    break\n",
        "  a.append(int(c))\n",
        "print(a)\n",
        "if len(a)==8 and a.count(a[4])==3:\n",
        "  print(\"True\")\n",
        "else:\n",
        "  print(\"False\")"
      ],
      "metadata": {
        "id": "5jH3Rv5DoAor"
      },
      "execution_count": null,
      "outputs": []
    },
    {
      "cell_type": "markdown",
      "source": [
        "3."
      ],
      "metadata": {
        "id": "1kD0oJxnzVTc"
      }
    },
    {
      "cell_type": "code",
      "source": [
        "str=\"The dance, held in the school gym, ended at midnight\"\n",
        "a=str.split(\" \")\n",
        "c=[]\n",
        "for i in str:\n",
        "  if i==\",\":\n",
        "      b=\",\"\n",
        "      c.append(b)\n",
        "  if i==\" \":\n",
        "      b=\" \"\n",
        "      c.append(b)\n",
        "a.append(c)\n",
        "print(a)\n"
      ],
      "metadata": {
        "colab": {
          "base_uri": "https://localhost:8080/"
        },
        "id": "wXN6cwdpzYnn",
        "outputId": "9f4982cd-02f5-4eca-edad-bfd853e7cbd6"
      },
      "execution_count": null,
      "outputs": [
        {
          "output_type": "stream",
          "name": "stdout",
          "text": [
            "['The', 'dance,', 'held', 'in', 'the', 'school', 'gym,', 'ended', 'at', 'midnight', [' ', ',', ' ', ' ', ' ', ' ', ' ', ',', ' ', ' ', ' ']]\n"
          ]
        }
      ]
    },
    {
      "cell_type": "markdown",
      "source": [
        "4. Write a Python program to find missing numbers from a list. Input : [1,2,3,4,6,7,10]"
      ],
      "metadata": {
        "id": "2Ex-h5zPBMpO"
      }
    },
    {
      "cell_type": "code",
      "source": [
        "list1=[1,2,3,4,5,6,7,8,9,10]\n",
        "list2=[1,2,3,4,6,7,10]\n",
        "list3=[]\n",
        "for i in list1:\n",
        "   if list2.count(i)==1:\n",
        "     pass\n",
        "   else:\n",
        "     print(i)\n",
        "     list3.append(i)\n",
        "print(list3)\n",
        "\n",
        "      "
      ],
      "metadata": {
        "colab": {
          "base_uri": "https://localhost:8080/"
        },
        "id": "EePTN8ieBPCp",
        "outputId": "ae2e37b8-ebac-48e0-815e-3179935a4bc0"
      },
      "execution_count": null,
      "outputs": [
        {
          "output_type": "stream",
          "name": "stdout",
          "text": [
            "5\n",
            "8\n",
            "9\n",
            "[5, 8, 9]\n"
          ]
        }
      ]
    },
    {
      "cell_type": "markdown",
      "source": [
        "5. Write a Python program to push all zeros to the end of a list. Input : [0,2,3,4,6,7,10]\n",
        "Output : [2, 3, 4, 6, 7, 10, 0]"
      ],
      "metadata": {
        "id": "zweRQlFRFh0m"
      }
    },
    {
      "cell_type": "code",
      "source": [
        "list=[0,2,3,4,5,6,7,10]\n",
        "for i in list:\n",
        "  if i==0:\n",
        "    list.remove(i)\n",
        "    list.append(i)\n",
        "print(list)\n"
      ],
      "metadata": {
        "colab": {
          "base_uri": "https://localhost:8080/"
        },
        "id": "enyao3fVFtYH",
        "outputId": "25a34000-0c62-44c2-fe74-6b5f9470e537"
      },
      "execution_count": null,
      "outputs": [
        {
          "output_type": "stream",
          "name": "stdout",
          "text": [
            "[2, 3, 4, 5, 6, 7, 10, 0]\n"
          ]
        }
      ]
    },
    {
      "cell_type": "code",
      "source": [
        "a=[0,2,3,4,6,7,10]\n",
        "for i in range(len(a)):\n",
        "    if a[i]==0:\n",
        "      a.pop(i)\n",
        "      a.append(0)\n",
        "print(a)\n"
      ],
      "metadata": {
        "colab": {
          "base_uri": "https://localhost:8080/"
        },
        "id": "5PjN7A6VMFrV",
        "outputId": "f10819a3-b688-4c04-e7af-c8d770ce4388"
      },
      "execution_count": null,
      "outputs": [
        {
          "output_type": "stream",
          "name": "stdout",
          "text": [
            "[2, 3, 4, 6, 7, 10, 0]\n"
          ]
        }
      ]
    }
  ]
}